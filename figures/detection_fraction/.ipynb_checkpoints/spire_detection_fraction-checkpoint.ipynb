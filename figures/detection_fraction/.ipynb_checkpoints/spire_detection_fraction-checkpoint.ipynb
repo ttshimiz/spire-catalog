{
 "cells": [
  {
   "cell_type": "markdown",
   "metadata": {},
   "source": [
    "# BAT SPIRE Detection Rate"
   ]
  },
  {
   "cell_type": "markdown",
   "metadata": {},
   "source": [
    "Script to plot the detection rate of the BAT AGN at each SPIRE wavelength. This will plot the total detection rates along with the detection rates when splitting up the sample into Sy 1's and Sy 2's."
   ]
  },
  {
   "cell_type": "code",
   "execution_count": 3,
   "metadata": {
    "collapsed": false
   },
   "outputs": [],
   "source": [
    "import numpy as np\n",
    "import matplotlib.pyplot as plt\n",
    "import matplotlib as mpl\n",
    "import seaborn as sns\n",
    "import pandas as pd"
   ]
  },
  {
   "cell_type": "code",
   "execution_count": 10,
   "metadata": {
    "collapsed": true
   },
   "outputs": [],
   "source": [
    "sns.set_style('ticks')\n",
    "sns.set_context('paper')\n",
    "%matplotlib inline"
   ]
  },
  {
   "cell_type": "code",
   "execution_count": 5,
   "metadata": {
    "collapsed": false
   },
   "outputs": [],
   "source": [
    "#Upload our data\n",
    "execfile('/Users/ttshimiz/Dropbox/Research/Thesis/scripts/upload_bat_ir_database.py')\n",
    "\n",
    "bat_herschel = pd.read_csv('/Users/ttshimiz/Github/bat-data/bat_herschel.csv', index_col=0)\n",
    "h250 = bat_herschel['PSW'].values\n",
    "h350 = bat_herschel['PMW'].values\n",
    "h500 = bat_herschel['PLW'].values"
   ]
  },
  {
   "cell_type": "code",
   "execution_count": 14,
   "metadata": {
    "collapsed": false
   },
   "outputs": [
    {
     "name": "stdout",
     "output_type": "stream",
     "text": [
      "All:  0.859424920128 0.722044728435 0.460063897764\n",
      "Sy1:  0.805369127517 0.624161073826 0.342281879195\n",
      "Sy2:  0.953020134228 0.852348993289 0.590604026846\n"
     ]
    }
   ],
   "source": [
    "#Calculate detection rates\n",
    "#The undetected objects are indicated as having a flux of 0\n",
    "spire250_dr = float(np.sum(h250 != 0))/len(h250)\n",
    "spire350_dr = float(np.sum(h350 != 0))/len(h350)\n",
    "spire500_dr = float(np.sum(h500 != 0))/len(h500)\n",
    "print 'All: ',spire250_dr, spire350_dr, spire500_dr\n",
    "#Sy 1 detection rates\n",
    "spire250_sy1_dr = float(np.sum(h250[sy1_sample] != 0))/np.sum(sy1_sample)\n",
    "spire350_sy1_dr = float(np.sum(h350[sy1_sample] != 0))/np.sum(sy1_sample)\n",
    "spire500_sy1_dr = float(np.sum(h500[sy1_sample] != 0))/np.sum(sy1_sample)\n",
    "print 'Sy1: ',spire250_sy1_dr, spire350_sy1_dr, spire500_sy1_dr\n",
    "#Sy 2 detection rates\n",
    "spire250_sy2_dr = float(np.sum(h250[sy2_sample] != 0))/np.sum(sy1_sample)\n",
    "spire350_sy2_dr = float(np.sum(h350[sy2_sample] != 0))/np.sum(sy1_sample)\n",
    "spire500_sy2_dr = float(np.sum(h500[sy2_sample] != 0))/np.sum(sy1_sample)\n",
    "print 'Sy2: ',spire250_sy2_dr, spire350_sy2_dr, spire500_sy2_dr"
   ]
  },
  {
   "cell_type": "code",
   "execution_count": 7,
   "metadata": {
    "collapsed": false
   },
   "outputs": [],
   "source": [
    "#Setup the figure\n",
    "columnwidth = 245.26653   #in points\n",
    "textwidth = 513.11743     #in points\n",
    "pts2inches = 1./72.27    #Conversion from pts to inches\n",
    "fw_column = columnwidth * pts2inches  #Figure width for a figure that spans the width of a column\n",
    "fw_text   = textwidth * pts2inches    #Figure width for a figure that spans the width of the page\n",
    "#mpl.rcParams['axes.labelsize'] = 10\n",
    "#mpl.rcParams['xtick.labelsize'] = 10\n",
    "#mpl.rcParams['ytick.labelsize'] = 10"
   ]
  },
  {
   "cell_type": "code",
   "execution_count": 12,
   "metadata": {
    "collapsed": false
   },
   "outputs": [
    {
     "data": {
      "image/png": "[encoded data removed]",
      "text/plain": [
       "<matplotlib.figure.Figure at 0x10ba74410>"
      ]
     },
     "metadata": {},
     "output_type": "display_data"
    }
   ],
   "source": [
    "#Plot the detection rates as bar graph\n",
    "fig = plt.figure(figsize=(fw_column, fw_column*3./4.))\n",
    "ax = fig.add_subplot(111)\n",
    "ax.bar([0.5, 2.5, 4.5], [spire250_dr, spire350_dr, spire500_dr], width=0.5, color='white', label='All')\n",
    "ax.bar([1.0, 3.0, 5.0], [spire250_sy1_dr, spire350_sy1_dr, spire500_sy1_dr], width=0.5, color='lightgrey', label='Sy 1')\n",
    "ax.bar([1.5, 3.5, 5.5], [spire250_sy2_dr, spire350_sy2_dr, spire500_sy2_dr], width=0.5, color='black', label='Sy 2')\n",
    "\n",
    "ax.set_xticks([1.25, 3.25, 5.25])\n",
    "ax.set_xticklabels(['250 $\\mu$m', '350 $\\mu$m', '500 $\\mu$m'])\n",
    "ax.set_xlabel('Wavelength')\n",
    "ax.set_ylabel('Detection Rate')\n",
    "ax.set_xlim(0.0, 6.5)\n",
    "ax.legend(loc='upper right', fontsize=8)\n",
    "sns.despine()"
   ]
  },
  {
   "cell_type": "code",
   "execution_count": 13,
   "metadata": {
    "collapsed": false
   },
   "outputs": [],
   "source": [
    "#Save the figure\n",
    "fig.savefig('/Users/ttshimiz/Github/spire-catalog-paper/figures/detection_fraction/spire_detection_rates.eps',\n",
    "            bbox_inches='tight')"
   ]
  },
  {
   "cell_type": "code",
   "execution_count": null,
   "metadata": {
    "collapsed": false
   },
   "outputs": [],
   "source": []
  }
 ],
 "metadata": {
  "kernelspec": {
   "display_name": "Python 2",
   "language": "python",
   "name": "python2"
  },
  "language_info": {
   "codemirror_mode": {
    "name": "ipython",
    "version": 2
   },
   "file_extension": ".py",
   "mimetype": "text/x-python",
   "name": "python",
   "nbconvert_exporter": "python",
   "pygments_lexer": "ipython2",
   "version": "2.7.10"
  }
 },
 "nbformat": 4,
 "nbformat_minor": 0
}
