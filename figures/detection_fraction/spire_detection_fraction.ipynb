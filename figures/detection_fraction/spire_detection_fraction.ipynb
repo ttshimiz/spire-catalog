{
 "metadata": {
  "name": "",
  "signature": "sha256:74ca001bbfb35efb532a58e711b9d429379064353467047eea44924cbd670cc6"
 },
 "nbformat": 3,
 "nbformat_minor": 0,
 "worksheets": [
  {
   "cells": [
    {
     "cell_type": "heading",
     "level": 1,
     "metadata": {},
     "source": [
      "BAT SPIRE Detection Rate"
     ]
    },
    {
     "cell_type": "markdown",
     "metadata": {},
     "source": [
      "Script to plot the detection rate of the BAT AGN at each SPIRE wavelength. This will plot the total detection rates along with the detection rates when splitting up the sample into Sy 1's and Sy 2's."
     ]
    },
    {
     "cell_type": "code",
     "collapsed": false,
     "input": [
      "import numpy as np\n",
      "import matplotlib.pyplot as plt\n",
      "import matplotlib as mpl"
     ],
     "language": "python",
     "metadata": {},
     "outputs": [],
     "prompt_number": 8
    },
    {
     "cell_type": "code",
     "collapsed": false,
     "input": [
      "#Upload our data\n",
      "execfile('/Users/ttshimiz/Dropbox/Research/Thesis/scripts/upload_bat_ir_database.py')"
     ],
     "language": "python",
     "metadata": {},
     "outputs": [],
     "prompt_number": 19
    },
    {
     "cell_type": "code",
     "collapsed": false,
     "input": [
      "#Calculate detection rates\n",
      "#The undetected objects are indicated as having a flux of 0\n",
      "spire250_dr = float(np.sum(h250 != 0))/len(h250)\n",
      "spire350_dr = float(np.sum(h350 != 0))/len(h350)\n",
      "spire500_dr = float(np.sum(h500 != 0))/len(h500)\n",
      "\n",
      "#Sy 1 detection rates\n",
      "spire250_sy1_dr = float(np.sum(h250[sy1_sample] != 0))/np.sum(sy1_sample)\n",
      "spire350_sy1_dr = float(np.sum(h350[sy1_sample] != 0))/np.sum(sy1_sample)\n",
      "spire500_sy1_dr = float(np.sum(h500[sy1_sample] != 0))/np.sum(sy1_sample)\n",
      "\n",
      "#Sy 2 detection rates\n",
      "spire250_sy2_dr = float(np.sum(h250[sy2_sample] != 0))/np.sum(sy1_sample)\n",
      "spire350_sy2_dr = float(np.sum(h350[sy2_sample] != 0))/np.sum(sy1_sample)\n",
      "spire500_sy2_dr = float(np.sum(h500[sy2_sample] != 0))/np.sum(sy1_sample)"
     ],
     "language": "python",
     "metadata": {},
     "outputs": [],
     "prompt_number": 20
    },
    {
     "cell_type": "code",
     "collapsed": false,
     "input": [
      "#Setup the figure\n",
      "columnwidth = 245.26653   #in points\n",
      "textwidth = 513.11743     #in points\n",
      "pts2inches = 1./72.27    #Conversion from pts to inches\n",
      "fw_column = columnwidth * pts2inches  #Figure width for a figure that spans the width of a column\n",
      "fw_text   = textwidth * pts2inches    #Figure width for a figure that spans the width of the page\n",
      "mpl.rcParams['axes.labelsize'] = 10\n",
      "mpl.rcParams['xtick.labelsize'] = 10\n",
      "mpl.rcParams['ytick.labelsize'] = 10"
     ],
     "language": "python",
     "metadata": {},
     "outputs": [],
     "prompt_number": 15
    },
    {
     "cell_type": "code",
     "collapsed": false,
     "input": [
      "#Plot the detection rates as bar graph\n",
      "fig = plt.figure(figsize=(fw_column, fw_column*3./4.))\n",
      "ax = fig.add_subplot(111)\n",
      "ax.bar([0.5, 2.5, 4.5], [spire250_dr, spire350_dr, spire500_dr], width=0.5, color='white', label='All')\n",
      "ax.bar([1.0, 3.0, 5.0], [spire250_sy1_dr, spire350_sy1_dr, spire500_sy1_dr], width=0.5, color='lightgrey', label='Sy 1')\n",
      "ax.bar([1.5, 3.5, 5.5], [spire250_sy2_dr, spire350_sy2_dr, spire500_sy2_dr], width=0.5, color='black', label='Sy 2')\n",
      "\n",
      "ax.set_xticks([1.25, 3.25, 5.25])\n",
      "ax.set_xticklabels(['250 $\\mu$m', '350 $\\mu$m', '500 $\\mu$m'])\n",
      "ax.set_xlabel('Wavelength')\n",
      "ax.set_ylabel('Detection Rate')\n",
      "ax.set_xlim(0.0, 6.5)\n",
      "ax.legend(loc='upper right', fontsize=8)"
     ],
     "language": "python",
     "metadata": {},
     "outputs": [
      {
       "metadata": {},
       "output_type": "pyout",
       "prompt_number": 31,
       "text": [
        "<matplotlib.legend.Legend at 0x10b76ac90>"
       ]
      }
     ],
     "prompt_number": 31
    },
    {
     "cell_type": "code",
     "collapsed": false,
     "input": [
      "plt.show()"
     ],
     "language": "python",
     "metadata": {},
     "outputs": [],
     "prompt_number": 30
    },
    {
     "cell_type": "code",
     "collapsed": false,
     "input": [
      "#Save the figure\n",
      "fig.savefig('/Users/ttshimiz/Dropbox/Research/Thesis/SPIRE_photometry/Paper/Figures/spire_detection_rates.eps',\n",
      "            bbox_inches='tight')"
     ],
     "language": "python",
     "metadata": {},
     "outputs": [],
     "prompt_number": 32
    },
    {
     "cell_type": "code",
     "collapsed": false,
     "input": [],
     "language": "python",
     "metadata": {},
     "outputs": []
    }
   ],
   "metadata": {}
  }
 ]
}