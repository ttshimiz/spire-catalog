{
 "metadata": {
  "name": "",
  "signature": "sha256:9c255bea30d1eba276142bcdc1dda29e8b348e595fa803204725c27ab393b481"
 },
 "nbformat": 3,
 "nbformat_minor": 0,
 "worksheets": [
  {
   "cells": [
    {
     "cell_type": "heading",
     "level": 1,
     "metadata": {},
     "source": [
      "Histogram of SPIRE Colors for HRS and BAT AGN"
     ]
    },
    {
     "cell_type": "code",
     "collapsed": false,
     "input": [
      "import numpy as np\n",
      "import matplotlib as mpl\n",
      "import matplotlib.pyplot as plt\n",
      "import scipy.stats as stats"
     ],
     "language": "python",
     "metadata": {},
     "outputs": []
    },
    {
     "cell_type": "code",
     "collapsed": false,
     "input": [
      "#Plotting parameters\n",
      "columnwidth = 245.26653   #in points\n",
      "textwidth = 513.11743     #in points\n",
      "pts2inches = 1./72.27    #Conversion from pts to inches\n",
      "fw_column = columnwidth * pts2inches  #Figure width for a figure that spans the width of a column\n",
      "fw_text   = textwidth * pts2inches    #Figure width for a figure that spans the width of the page\n",
      "mpl.rcParams['axes.labelsize'] = 10\n",
      "mpl.rcParams['xtick.labelsize'] = 10\n",
      "mpl.rcParams['ytick.labelsize'] = 10\n",
      "mpl.rcParams['legend.fontsize'] = 8"
     ],
     "language": "python",
     "metadata": {},
     "outputs": []
    },
    {
     "cell_type": "code",
     "collapsed": false,
     "input": [
      "#Upload the HRS data\n",
      "#We apply corrections to the fluxes to account for the different beam areas used in the photometry of the BAT AGN and HRS\n",
      "#250 micron: 423^2/465^2\n",
      "#350 micron: 751^2/822^2\n",
      "#500 micron: 1587^2/1769^2\n",
      "dir = '/Users/ttshimiz/Dropbox/Research/Thesis/'\n",
      "hrs_data = np.genfromtxt(dir+'Other_surveys/HRS/HRS_PHOTOMETRY_v2.1.txt', dtype = None, names = True)\n",
      "hrs_250 = hrs_data['S250']*423.**2/465.**2\n",
      "hrs_250_err = hrs_data['err_tot250']*423.**2/465.**2\n",
      "hrs_350 = hrs_data['S350']*751.**2/822.**2\n",
      "hrs_350_err = hrs_data['err_tot350']*751.**2/822.**2\n",
      "hrs_500 = hrs_data['S500']*1587.**2/1769.**2\n",
      "hrs_500_err = hrs_data['err_tot500']*1587.**2/1769.**2\n",
      "hrs_names = hrs_data['NGC']\n",
      "hrs_250_flg = hrs_data['Flag250']\n",
      "hrs_350_flg = hrs_data['Flag350']\n",
      "hrs_500_flg = hrs_data['Flag500']"
     ],
     "language": "python",
     "metadata": {},
     "outputs": []
    },
    {
     "cell_type": "code",
     "collapsed": false,
     "input": [
      "#Only use sources that are detected and don't have possible contamination\n",
      "#These are indicated as having 'flag' = 1 or 2\n",
      "ind_hrs = (((hrs_250_flg == 1) | (hrs_250_flg == 2)) &\n",
      "           ((hrs_350_flg == 1) | (hrs_350_flg == 2)) &\n",
      "           ((hrs_500_flg == 1) | (hrs_500_flg == 2)))"
     ],
     "language": "python",
     "metadata": {},
     "outputs": []
    },
    {
     "cell_type": "code",
     "collapsed": false,
     "input": [
      "#Upload the BAT data\n",
      "#SPIRE fluxes are contained in the variables: h250, h350, h500 with the errors in h250_err, h350_err, h500_err\n",
      "#Only use the sources which are detected in all 3 bands\n",
      "execfile(dir+'scripts/upload_bat_ir_database.py')\n",
      "ind_bat = (h250 != 0) & (h350 != 0) & (h500 != 0)"
     ],
     "language": "python",
     "metadata": {},
     "outputs": []
    },
    {
     "cell_type": "code",
     "collapsed": false,
     "input": [
      "#Calculate colors\n",
      "hrs_color_250_350 = hrs_250[ind_hrs]/hrs_350[ind_hrs]\n",
      "hrs_color_350_500 = hrs_350[ind_hrs]/hrs_500[ind_hrs]\n",
      "bat_color_250_350 = h250[ind_bat]/h350[ind_bat]\n",
      "bat_color_350_500 = h350[ind_bat]/h500[ind_bat]"
     ],
     "language": "python",
     "metadata": {},
     "outputs": []
    },
    {
     "cell_type": "code",
     "collapsed": false,
     "input": [
      "#Plot the colors. Use a 1x2 figure with the histogram of F250/F350 on the left and F350/F500 on the right.\n",
      "fig = plt.figure(figsize=(fw_text, fw_text*3/8.))\n",
      "\n",
      "ax1 = fig.add_subplot(121)\n",
      "ax1.hist(bat_color_250_350, histtype='step', color='r', lw=1.5)\n",
      "ax1.hist(hrs_color_250_350, histtype='step', color='k', lw=1.5, ls='dashed')\n",
      "ax1.set_xlabel(r'$F_{250}/F_{350}$')\n",
      "ax1.set_ylabel('Number')\n",
      "ax1.legend(['BAT', 'HRS'], loc='upper left')\n",
      "\n",
      "ax2 = fig.add_subplot(122)\n",
      "ax2.hist(bat_color_350_500, histtype='step', color='r', lw=1.5)\n",
      "ax2.hist(hrs_color_350_500, histtype='step', color='k', lw=1.5, ls='dashed')\n",
      "ax2.set_xlabel(r'$F_{350}/F_{500}$')\n",
      "plt.show()"
     ],
     "language": "python",
     "metadata": {},
     "outputs": []
    },
    {
     "cell_type": "code",
     "collapsed": false,
     "input": [
      "#Save the figure\n",
      "fig.savefig(dir+'SPIRE_photometry/Paper/Figures/spire_color_hist.eps', bbox_inches='tight')"
     ],
     "language": "python",
     "metadata": {},
     "outputs": []
    },
    {
     "cell_type": "code",
     "collapsed": false,
     "input": [
      "#Run a K-S test between the BAT and HRS\n",
      "ks_f250_f350 = stats.ks_2samp(bat_color_250_350, hrs_color_250_350)\n",
      "ks_f350_f500 = stats.ks_2samp(bat_color_350_500, hrs_color_350_500)"
     ],
     "language": "python",
     "metadata": {},
     "outputs": []
    },
    {
     "cell_type": "code",
     "collapsed": false,
     "input": [
      "#Output the results\n",
      "print 'K-S Test Results:'\n",
      "print 'N_BAT = ', len(bat_color_250_350)\n",
      "print 'N_HRS = ', len(hrs_color_250_350)\n",
      "print 'D_250/350 = ', ks_f250_f350[0]\n",
      "print 'P_250/350 = ', ks_f250_f350[1]\n",
      "print 'D_350/500 = ', ks_f350_f500[0]\n",
      "print 'P_350/500 = ', ks_f350_f500[1]"
     ],
     "language": "python",
     "metadata": {},
     "outputs": []
    }
   ],
   "metadata": {}
  }
 ]
}